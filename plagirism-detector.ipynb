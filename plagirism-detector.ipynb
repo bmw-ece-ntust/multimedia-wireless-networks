{
 "cells": [
  {
   "metadata": {},
   "cell_type": "markdown",
   "source": [
    "# <center>Plagiarism Detector</center>\n",
    "\n",
    "> By: Ian Joseph Chandra (D11202805)"
   ],
   "id": "328900bb3fc7a7b"
  },
  {
   "metadata": {},
   "cell_type": "markdown",
   "source": "## Import Student Information from GitHub",
   "id": "2c76d8961e26a58d"
  },
  {
   "metadata": {
    "ExecuteTime": {
     "end_time": "2024-05-21T03:00:35.427720Z",
     "start_time": "2024-05-21T03:00:33.757804Z"
    }
   },
   "cell_type": "code",
   "source": [
    "from github import Github\n",
    "\n",
    "# Initialize a Github instance (no authentication required for public repositories)\n",
    "g = Github()\n",
    "\n",
    "# Replace 'owner_username' and 'repository_name' with the actual owner and repository name\n",
    "owner_username = \"bmw-ece-ntust\"\n",
    "repository_name = \"multimedia-wireless-network\"\n",
    "\n",
    "# Get the repository\n",
    "repo = g.get_repo(f\"{owner_username}/{repository_name}\")\n",
    "\n",
    "# Get the branches of the repository\n",
    "repo.branches = repo.get_branches()\n",
    "\n",
    "# Put the branch names in a list\n",
    "branches = []\n",
    "for branch in repo.branches:\n",
    "    branches.append(branch.name)\n",
    "\n",
    "# Remove the last three values\n",
    "branches = branches[:-5]\n",
    "\n",
    "branches"
   ],
   "id": "2fc95f0a5b7f45a6",
   "outputs": [
    {
     "data": {
      "text/plain": [
       "['2024-B10902106-Cecilia-Ruiz-Diaz',\n",
       " '2024-D11202811-Hitayezu-Antoine',\n",
       " '2024-D11215805-Dawit-Hadush-Hailu',\n",
       " '2024-D11215806-Desalegn-Aweke-Wako',\n",
       " '2024-E11202011-Paul-Weiler',\n",
       " '2024-F11215011-Malkov-Evgenii-Vitalievich',\n",
       " '2024-F11215101-Mateo-Alvarenga',\n",
       " '2024-F11215110-Victor-Hugo-Cano-Escobar',\n",
       " '2024-F11215120-Emiliano-Nazareno-Rojas-Marcelli',\n",
       " '2024-F11215125-Paulo-Nicolas-Waimberg-Peña',\n",
       " '2024-M11202209-Sheryl',\n",
       " '2024-M11202215-Joe',\n",
       " '2024-M11202255-Sylvia',\n",
       " '2024-M11202259-Jerry',\n",
       " '2024-M11202261-Johnson',\n",
       " '2024-M11202816-Ravi-Shankar',\n",
       " '2024-M11202819-Yosafat-Marselino-Agus']"
      ]
     },
     "execution_count": 1,
     "metadata": {},
     "output_type": "execute_result"
    }
   ],
   "execution_count": 1
  },
  {
   "metadata": {},
   "cell_type": "markdown",
   "source": "## Import the Student's Assignment 1",
   "id": "6e64c42c7b40d3c2"
  },
  {
   "metadata": {},
   "cell_type": "code",
   "outputs": [],
   "execution_count": null,
   "source": "",
   "id": "8f01cf0b0c9a4748"
  }
 ],
 "metadata": {
  "kernelspec": {
   "display_name": "Python 3",
   "language": "python",
   "name": "python3"
  },
  "language_info": {
   "codemirror_mode": {
    "name": "ipython",
    "version": 2
   },
   "file_extension": ".py",
   "mimetype": "text/x-python",
   "name": "python",
   "nbconvert_exporter": "python",
   "pygments_lexer": "ipython2",
   "version": "2.7.6"
  }
 },
 "nbformat": 4,
 "nbformat_minor": 5
}
